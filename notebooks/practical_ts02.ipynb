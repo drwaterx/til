{
 "cells": [
  {
   "cell_type": "code",
   "execution_count": null,
   "id": "034ebf66",
   "metadata": {},
   "outputs": [],
   "source": []
  },
  {
   "cell_type": "markdown",
   "id": "6a1a4f5a",
   "metadata": {},
   "source": [
    "# Put content into template"
   ]
  },
  {
   "cell_type": "code",
   "execution_count": null,
   "id": "3371ba54",
   "metadata": {},
   "outputs": [],
   "source": [
    "p = Path.cwd()/'dashboard01.html'\n",
    "template = Template(p.read_text())\n",
    "o = Path.cwd()/'dashboard02.html'\n",
    "o.write_text(template.render({'stage0': stage0,\n",
    "                              's1data': s1data,\n",
    "                              'stage1': stage1,\n",
    "                              'stage2': stage2, \n",
    "                              'stage3': stage3, \n",
    "                              's4params': s4params, \n",
    "                              's5_before_asfreq': s5_before_asfreq, \n",
    "                              's5_after_asfreq': s5_after_asfreq,\n",
    "                              's5_periodIndex': s5_periodIndex,\n",
    "                              'ts5md': ts5md,\n",
    "                              'stage5': stage5,\n",
    "                              's5params': s5params,\n",
    "                              's6params': s6params, \n",
    "                              'stage7': stage7, \n",
    "                             }\n",
    "                            )\n",
    "            )"
   ]
  },
  {
   "cell_type": "code",
   "execution_count": null,
   "id": "046e58b9",
   "metadata": {},
   "outputs": [],
   "source": []
  },
  {
   "cell_type": "code",
   "execution_count": null,
   "id": "320088cc",
   "metadata": {},
   "outputs": [],
   "source": []
  },
  {
   "cell_type": "markdown",
   "id": "44f56a62",
   "metadata": {},
   "source": []
  },
  {
   "cell_type": "markdown",
   "id": "5574c7ad-2772-48a1-a393-eb31828321b4",
   "metadata": {
    "tags": []
   },
   "source": [
    "## Radial bases"
   ]
  },
  {
   "cell_type": "markdown",
   "id": "16feaae1-aa73-4592-a8ca-3813d78ea8d1",
   "metadata": {},
   "source": [
    "of the form $$\\phi(x_i) = \\text{exp} \\Big[-\\frac{1}{2\\alpha} (x-m_i)^2 \\Big]~ \\forall ~\\text{week, month, or} \\dots$$\n",
    "where $$\n",
    "m_i=\\begin{cases}\n",
    "      1, & \\text{if}\\ x ~ \\text{mod}~ im_1=0 \\\\\n",
    "      0, & \\text{otherwise}\n",
    "    \\end{cases}\n",
    "$$"
   ]
  },
  {
   "cell_type": "code",
   "execution_count": null,
   "id": "d108aca6-44af-4260-bc39-55f892d9882f",
   "metadata": {},
   "outputs": [],
   "source": [
    "def rbf_builder(positions: np.ndarray,\n",
    "                period: int = 7,\n",
    "                alpha: float = 1.2,\n",
    "                points_per_interval: int = 1,\n",
    "               ) -> np.ndarray:\n",
    "    \"\"\"For the range of the sequence, produce a radial basis function (RBF) comprising\n",
    "    smooth peaks around all existing multiples of a chosen period.\n",
    "    \n",
    "    The multiples are located where the modulo of the position (time) values and the \n",
    "    chosen period are zero.  The value of the multiple is equal to the input position \n",
    "    array at those locations.  For each of those locations and associated values,\n",
    "    an RBF is formed by subtracting the value from the position array, as the \n",
    "    exponent will evaluate to `1` when its argument is zero.\n",
    "    \n",
    "    Each RBF (one per period multiple present in the data) is stored in a separate\n",
    "    array, which are collected in a list and stacked into a 2D array.\n",
    "    \n",
    "    The final step, summing vertically over the 2D aray, provides a single RBF with \n",
    "    multiple humps--the form we need to include in a linear regression.  We do not need to\n",
    "    return the results as a dataframe; a NumPy array may be preferable.\n",
    "    \n",
    "    Parameters\n",
    "    ----------\n",
    "    positions\n",
    "        Position (time) values associated with a sequence of observations.\n",
    "    period\n",
    "        Number of sequence or time points (or rows) in the series that define a putative characteristic\n",
    "        of the sequence. `7` implies weekly periodicity if data were recorded daily. The period by itself \n",
    "        has no inherent meaning; it is always in relation to the data structure (spacing of observations).\n",
    "    alpha\n",
    "        Width of the humps; higher is wider.\n",
    "    points_per_interval\n",
    "        Always one, except when unit testing with synthetic data using `numpy.linspace`.\n",
    "    \"\"\"\n",
    "    rbf_segments = []\n",
    "    # rbf_segments = {'x': sequence}\n",
    "    \n",
    "    for m in np.where(np.fmod(positions, period)==0)[0]:  # zero index pulls array out of tuple\n",
    "        segment = np.exp(-(positions - positions[m])**2 / alpha)  # todo: trim sequence to around m\n",
    "        rbf_segments.append(segment)  # ['rbf_' + str(int(m/points_per_interval))] = segment\n",
    "    return np.sum(np.vstack(rbf_segments), axis=0)\n",
    "\n",
    "\n",
    "def rbf_stitcher(seq: pd.DataFrame,\n",
    "                 rbf: np.ndarray,\n",
    "                 m_: int = 7,\n",
    "                 characteristic: str = 'dow',\n",
    "                 characteristic_value: int = 4,\n",
    "                ) -> pd.DataFrame:\n",
    "    \"\"\"Extends regression design matrix X with a radial basis function (RBF),\n",
    "    ensuring the RBF peak aligns to the desired positions within the sequence.\n",
    "    \n",
    "    Parameters\n",
    "    ----------\n",
    "    seq\n",
    "        Sequence of observations.\n",
    "    rbf\n",
    "        Radial basis, a function of recurring humps.\n",
    "    m_\n",
    "        Period of the RBF.\n",
    "    characteristic\n",
    "        Name of the sequence or time characteristic.\n",
    "    characteristic_value\n",
    "        Ordinal value of the characteristic.  For example, if the characteristic is\n",
    "        the day of the week (DoW) and we want the RBF to peak on Fridays,\n",
    "        we have prepared a sequence that includes an ordinal encoding via `pandas.dt.weekday`\n",
    "        where DoW = 4 corresponds to Fridays.\n",
    "    \"\"\"\n",
    "    # Convert RBF into a named Series\n",
    "    rbf_name = 'rbf_'+str(m_)+'_'+str(characteristic_value)\n",
    "    rbf = pd.Series(rbf, name=rbf_name)\n",
    "    \n",
    "    # locate first instance where specified time characteristic appears in the sequence\n",
    "    delay = seq[seq[characteristic]==characteristic_value].index[0]\n",
    "    \n",
    "    # Adjust index of RBF\n",
    "    rbf.index=rbf.index + delay\n",
    "    \n",
    "    # Merge the RBF to the sequence\n",
    "    seq = seq.merge(rbf, left_index=True, right_index=True, how='left')\n",
    "    \n",
    "    # Verify alignment -- possible?\n",
    "    \n",
    "    # Backfill any nulls in the RBF resulting from the index alignment\n",
    "    idx_null_rbf = seq[np.isnan(seq[rbf_name])].index\n",
    "    seq.loc[idx_null_rbf, rbf_name] = seq.loc[\n",
    "        idx_null_rbf+max(idx_null_rbf)+2, rbf_name][::-1].to_numpy()\n",
    "    # verify that the +2 scalar is universal and not dependent on the period m_\n",
    "    \n",
    "    return seq"
   ]
  },
  {
   "cell_type": "markdown",
   "id": "04dc24f7-7cd5-4f33-9266-fd3abbae78fb",
   "metadata": {
    "tags": []
   },
   "source": [
    "## RBF mini test"
   ]
  },
  {
   "cell_type": "markdown",
   "id": "616b8c4a-fdc2-45e7-9899-0b791590c65a",
   "metadata": {},
   "source": [
    "Make a short, artificial sequence"
   ]
  },
  {
   "cell_type": "code",
   "execution_count": null,
   "id": "b01e94bb-8cab-4a60-8a98-b1aa0b2e1644",
   "metadata": {},
   "outputs": [],
   "source": [
    "x1, x2 = 1, 56\n",
    "points_per_interval = 10\n",
    "steps = (x2 - x1) * points_per_interval + 1\n",
    "rbf = pd.DataFrame({'x': np.linspace(x1, x2, steps),\n",
    "                    })\n",
    "print(rbf[0:9])"
   ]
  },
  {
   "cell_type": "markdown",
   "id": "5f7a2b81-e578-46ac-829a-0ff6d8f3f85f",
   "metadata": {},
   "source": [
    "Explore the effect of `alpha` on one hump of an RBF."
   ]
  },
  {
   "cell_type": "code",
   "execution_count": null,
   "id": "d99985d3-2e6b-4d71-a66c-c0a05b0691cd",
   "metadata": {},
   "outputs": [],
   "source": [
    "alpha = 1.2  # higher alpha, broader hump\n",
    "m_ = 14\n",
    "rbf = rbf.assign(y = np.exp(-1*(rbf.x - m_)**2 / alpha)) # np.fmod(, 7)\n",
    "chrt = altair_ts_scatter(rbf, 'x', 'y', 'x')"
   ]
  },
  {
   "cell_type": "code",
   "execution_count": null,
   "id": "094d4e72-f430-4c82-9d3b-8f58b82b7386",
   "metadata": {},
   "outputs": [],
   "source": [
    "chrt"
   ]
  },
  {
   "cell_type": "markdown",
   "id": "377bd914-853b-42b4-ac0a-9765e655756a",
   "metadata": {},
   "source": [
    "Create the full RBF for the range of a given sequence"
   ]
  },
  {
   "cell_type": "code",
   "execution_count": null,
   "id": "c0b712c5-ff90-4c8f-b080-480ff00dbf83",
   "metadata": {},
   "outputs": [],
   "source": [
    "rbf_segments = rbf_builder(rbf.x.to_numpy())"
   ]
  },
  {
   "cell_type": "code",
   "execution_count": null,
   "id": "11f948a7-a7c7-4f4c-9075-68704742771a",
   "metadata": {},
   "outputs": [],
   "source": [
    "rbf_segments"
   ]
  },
  {
   "cell_type": "code",
   "execution_count": null,
   "id": "91d89a9f-8e1a-473b-a939-271e15feef5c",
   "metadata": {},
   "outputs": [],
   "source": [
    "segment = 'rbf_7'\n",
    "chrt2 = altair_ts_line(rbf_segments, 'x', segment, 'x')"
   ]
  },
  {
   "cell_type": "code",
   "execution_count": null,
   "id": "0dff0082-70ba-4cd4-83c9-de7632dbf542",
   "metadata": {},
   "outputs": [],
   "source": [
    "chrt2"
   ]
  },
  {
   "cell_type": "markdown",
   "id": "ecba23b5-ffad-462c-ba21-8f573f4b0599",
   "metadata": {},
   "source": [
    "## Deploy RBF to longer artificial sequence\n",
    "From above, we have a daily sequence where every Friday is boosted.  We have a function that creates an RBF that peaks every $m^\\text{th}$ row of a DataFrame. We don't know if those positions align to the desired day of the week.  (And analogously, if we wanted an RBF that peaks around the end of each month, etc.)"
   ]
  },
  {
   "cell_type": "code",
   "execution_count": null,
   "id": "ba92c94a-1cfa-4c1c-be75-a0dd579f70f3",
   "metadata": {},
   "outputs": [],
   "source": [
    "rbf = rbf_builder(ts.reset_index()['index'].to_numpy(),\n",
    "                  alpha=0.8)"
   ]
  },
  {
   "cell_type": "code",
   "execution_count": null,
   "id": "b76f6eb4-4a94-4b01-ad84-a8d4059e5d1e",
   "metadata": {},
   "outputs": [],
   "source": [
    "tsrbf = rbf_stitcher(ts, rbf)"
   ]
  },
  {
   "cell_type": "code",
   "execution_count": null,
   "id": "f8c529eb-1873-4cb7-854e-c12edbdcce24",
   "metadata": {},
   "outputs": [],
   "source": [
    "tsrbf[0:9]"
   ]
  },
  {
   "cell_type": "code",
   "execution_count": null,
   "id": "302d9d8d-c1e2-42e4-95c1-a0b091e0e00e",
   "metadata": {},
   "outputs": [],
   "source": [
    "segment = 'rbf_7_4'"
   ]
  },
  {
   "cell_type": "code",
   "execution_count": null,
   "id": "bb422a90-c283-41c2-acea-dc4586b52d97",
   "metadata": {},
   "outputs": [],
   "source": [
    "chrt4 = altair_ts_scatter(tsrbf[0:60], 't', segment, 't')"
   ]
  },
  {
   "cell_type": "code",
   "execution_count": null,
   "id": "bea4b0b9-2d32-4d3a-9c16-e4ebd725345d",
   "metadata": {},
   "outputs": [],
   "source": [
    "# chrt4"
   ]
  },
  {
   "cell_type": "markdown",
   "id": "7b68e206-39ba-4ac2-8dcd-19cd853e946d",
   "metadata": {},
   "source": [
    "## RBF models\n",
    "\n",
    "- Continue to use `AutoReg`, adding RBF as an `exog` and disabling `seasonal` \n",
    "- Approximate the AR model's\n",
    "    - Time trend, $X_1=t$ (ok to exclude)\n",
    "    - lags (`regressors.create_lags`)\n",
    "    - seasonality\n",
    "        - binary dow variables\n",
    "        - Friday RBF"
   ]
  },
  {
   "cell_type": "code",
   "execution_count": null,
   "id": "484be45c-56ad-49fd-8bef-86aa4b4a2886",
   "metadata": {},
   "outputs": [],
   "source": [
    "auto_reg = AutoReg(tsrbf.y,\n",
    "                   missing='raise',\n",
    "                   lags=2,\n",
    "                   trend='t',\n",
    "                   seasonal=False,\n",
    "                   # period=7,\n",
    "                   exog=tsrbf.rbf_7_4,\n",
    "                   old_names=False,\n",
    "                  )\n",
    "auto_reg1 = auto_reg.fit()\n",
    "tsrbf.loc[:, 'y_hat'] = auto_reg1.predict()\n",
    "pprint(auto_reg1.params)"
   ]
  },
  {
   "cell_type": "code",
   "execution_count": null,
   "id": "2b631650-1b33-46ef-8a73-ffb2e55fa7c8",
   "metadata": {
    "tags": []
   },
   "outputs": [],
   "source": [
    "pan_zoom = alt.selection_interval(bind='scales')\n",
    "c0 = altair_ts_scatter(tsrbf, 't', 'y', 't')\n",
    "c2 = altair_ts_line(tsrbf, 't', 'y_hat', 't')\n",
    "(c0 + c2).add_selection(pan_zoom)"
   ]
  },
  {
   "cell_type": "code",
   "execution_count": null,
   "id": "73ed9e2c-f6a2-4971-8ada-d68eb9eb4e1e",
   "metadata": {
    "tags": []
   },
   "outputs": [],
   "source": [
    "tsrbf[tsrbf.columns[~tsrbf.columns.isin(['y_hat', 't'])]]"
   ]
  },
  {
   "cell_type": "code",
   "execution_count": null,
   "id": "4063f071-ff66-4cc8-a113-1c7c815e72b0",
   "metadata": {},
   "outputs": [],
   "source": [
    "tsrbf.columns[~tsrbf.columns.isin(['y_hat', 't'])]"
   ]
  },
  {
   "cell_type": "code",
   "execution_count": null,
   "id": "e32d816b-bfc7-408d-9cd2-a7390cf67c0f",
   "metadata": {},
   "outputs": [],
   "source": [
    "lm = smf.old(formula'y ~ x + a + b', data=ts)"
   ]
  },
  {
   "cell_type": "code",
   "execution_count": null,
   "id": "799fb6e2-5c87-43b2-bcca-1718dd47acee",
   "metadata": {},
   "outputs": [],
   "source": []
  },
  {
   "cell_type": "code",
   "execution_count": null,
   "id": "95eaa5e6",
   "metadata": {},
   "outputs": [],
   "source": []
  }
 ],
 "metadata": {
  "kernelspec": {
   "display_name": "Python 3 (ipykernel)",
   "language": "python",
   "name": "python3"
  },
  "language_info": {
   "codemirror_mode": {
    "name": "ipython",
    "version": 3
   },
   "file_extension": ".py",
   "mimetype": "text/x-python",
   "name": "python",
   "nbconvert_exporter": "python",
   "pygments_lexer": "ipython3",
   "version": "3.10.6"
  }
 },
 "nbformat": 4,
 "nbformat_minor": 5
}
