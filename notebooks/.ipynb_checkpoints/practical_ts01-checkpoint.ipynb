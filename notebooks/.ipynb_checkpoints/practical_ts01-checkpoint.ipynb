{
 "cells": [
  {
   "cell_type": "markdown",
   "id": "53314f2a-3c86-49ef-b6bb-d5a80a5b495b",
   "metadata": {},
   "source": [
    "# Methods validation: Autoregression with seasonality\n",
    "\n",
    "Using synthetic data with known properties, we verify what behaviors the parameters of various `statsmodels.tsa` and `statsmodels.api.sm.ols` methods yield."
   ]
  },
  {
   "cell_type": "code",
   "execution_count": null,
   "id": "d0125e65-8511-4fe4-bd19-0cde228adf9b",
   "metadata": {},
   "outputs": [],
   "source": [
    "from pathlib import Path\n",
    "import datetime as dt\n",
    "from typing import Union, Tuple, List\n",
    "from pprint import pprint\n",
    "from math import ceil\n",
    "import pandas as pd\n",
    "import numpy as np\n",
    "import altair as alt\n",
    "import statsmodels.api as sm\n",
    "import statsmodels.formula.api as smf\n",
    "from statsmodels.tsa.ar_model import AutoReg\n",
    "from statsmodels.tools import eval_measures\n",
    "from jinja2 import Template"
   ]
  },
  {
   "cell_type": "code",
   "execution_count": null,
   "id": "a0f5333d-ef81-45ee-87c4-5598633e7d90",
   "metadata": {},
   "outputs": [],
   "source": [
    "parent_path = Path('.').resolve().parent  # Path.cwd()"
   ]
  },
  {
   "cell_type": "markdown",
   "id": "f7d433a8-eb2d-431b-81f6-49590e043f6a",
   "metadata": {
    "jp-MarkdownHeadingCollapsed": true,
    "tags": []
   },
   "source": [
    "## Plotting functions"
   ]
  },
  {
   "cell_type": "code",
   "execution_count": null,
   "id": "2ec8718a-412b-4fc5-9bcb-2db1cfe6bcab",
   "metadata": {},
   "outputs": [],
   "source": [
    "def altair_axis_encoding(source: pd.DataFrame,\n",
    "                         z_: str) -> str:\n",
    "    \"\"\"\n",
    "    Provides Altair with the proper encoding for an axis variable in shorthand.\n",
    "    Consider refactoring using the long-form alt.X('name', type='quantitative'), etc.\n",
    "    \n",
    "    :param source: tabular data set containing a column to be plotted\n",
    "    :param z_: column to be plotted\n",
    "    \"\"\"  \n",
    "    if source[z_].dtype in [int, float]:\n",
    "        axis_encoding = z_ + ':Q'  # a continuous real-valued quantity\n",
    "    elif ((pd.api.types.is_datetime64_ns_dtype(source[z_])) |\n",
    "          (pd.api.types.is_period_dtype(source[z_]))\n",
    "         ):\n",
    "        axis_encoding = z_ + ':T'  # a time or date value\n",
    "    elif source[z_].dtype == 'object':\n",
    "        print(f'Column {z_} is currently of dtype object; please convert to either int, float, or datetime.')\n",
    "    else:\n",
    "        print(f'Column {z_} is not correctly formatted; please convert to either int, float, or datetime.')\n",
    "    return axis_encoding\n",
    "\n",
    "\n",
    "def altair_ts_scatter(source: pd.DataFrame,\n",
    "                      x_: str,\n",
    "                      y_: str,\n",
    "                      tooltip_fld: str,\n",
    "                      categorical_colors: bool = False,\n",
    "                      _cat: str = 'darkblue',\n",
    "                      x_title: str = '',\n",
    "                      y_title: str = '',\n",
    "                      _zero: bool = False,\n",
    "                      _title: str = '',\n",
    "                      h_w: Tuple[str] = (200, 400)):\n",
    "    \"\"\"\n",
    "    Using filled circles, plots time series of transaction metrics (amount, volume, etc.) \n",
    "    on a daily resolution. To the right, plot a frequency distribution of the same variable.\n",
    "    \n",
    "    :param source: tabular data set containing columns to be plotted\n",
    "    :param x_: column name containing datetimes or integer denoting day of week or year, week or month, etc.\n",
    "    :param y_: transaction amount, volume, or other metric\n",
    "    :param _cat: categorical field used to color-code symbols, or a default single color\n",
    "    :param x_title: horizontal axis title\n",
    "    :param y_title: vertical axis title\n",
    "    :param _zero: whether to scale the vertical axis from zero (True) or on the basis of the range of values (False)\n",
    "    :param _title: chart title\n",
    "    :returns: altair graph (json) object \n",
    "    \"\"\"   \n",
    "    x_axis_encoding = altair_axis_encoding(source, x_)\n",
    "    \n",
    "    if not categorical_colors:\n",
    "        chart = alt.Chart(source).mark_circle(opacity=0.6, color=_cat).encode(\n",
    "            x=alt.X(x_axis_encoding, title=x_title, \n",
    "                    axis=alt.Axis(grid=False,\n",
    "                                  ticks=True,\n",
    "                                 )\n",
    "                   ),\n",
    "            y=alt.Y(y_ + ':Q', title=y_title, scale=alt.Scale(zero=_zero),\n",
    "                    axis=alt.Axis(grid=True,\n",
    "                                  ticks=True,\n",
    "                                  domain=False  # axis line\n",
    "                                 )\n",
    "                   ),\n",
    "            tooltip=altair_axis_encoding(source, tooltip_fld)\n",
    "        ).properties(\n",
    "            title=_title,\n",
    "            height=h_w[0],\n",
    "            width=h_w[1],\n",
    "        )\n",
    "    else:\n",
    "        chart = alt.Chart(source).mark_circle(opacity=0.6).encode(\n",
    "        x=alt.X(x_axis_encoding, title=x_title, \n",
    "                axis=alt.Axis(grid=False,\n",
    "                              ticks=True,\n",
    "                             )\n",
    "               ),\n",
    "        y=alt.Y(y_ + ':Q', title=y_title, scale=alt.Scale(zero=_zero),\n",
    "                axis=alt.Axis(grid=True,\n",
    "                              ticks=True,\n",
    "                              domain=False\n",
    "                             )\n",
    "               ),\n",
    "        color=_cat + ':N',\n",
    "        tooltip=altair_axis_encoding(source, tooltip_fld)\n",
    "        ).properties(\n",
    "            title=_title,\n",
    "            height=h_w[0],\n",
    "            width=h_w[1],\n",
    "        ).configure_view(strokeWidth=0)\n",
    "    return chart\n",
    "\n",
    "\n",
    "def altair_ts_line(source: pd.DataFrame,\n",
    "                   x_: str,\n",
    "                   y_: str,\n",
    "                   _color: str = 'palevioletred',\n",
    "                   x_title: str = '',\n",
    "                   y_title: str = '',\n",
    "                   _zero: bool = False,\n",
    "                   _title: str = '',\n",
    "                   h_w: Tuple[str] = (200, 400)):\n",
    "    \"\"\"\n",
    "    Using symbols, plots time series of transaction metrics (amount, volume, etc.) on a daily resolution.\n",
    "    To the right, plot a frequency distribution of the same variable.\n",
    "    \n",
    "    :param source: tabular data set containing columns to be plotted\n",
    "    :param x_: column name containing datetimes or integer denoting day of week or year, week or month, etc.\n",
    "    :param y_: transaction amount, volume, or other metric\n",
    "    :param x_title: horizontal axis title\n",
    "    :param y_title: vertical axis title\n",
    "    :param _zero: whether to scale the vertical axis from zero (True) or on the basis of the range of values (False)\n",
    "    :param _title: chart title\n",
    "    :param cat: categorical field used to color-code symbols.\n",
    "    :returns: altair graph (json) object \n",
    "    \"\"\"\n",
    "    x_axis_encoding = altair_axis_encoding(source, x_)\n",
    "    ts_line = alt.Chart(source).mark_line(color=_color).encode(\n",
    "        x=alt.X(x_axis_encoding, title=x_title,\n",
    "                axis=alt.Axis(grid=False,\n",
    "                              ticks=True,\n",
    "                             )\n",
    "               ),\n",
    "        y=alt.Y(y_ + ':Q', title=y_title, scale=alt.Scale(zero=_zero),\n",
    "               axis=alt.Axis(grid=True,\n",
    "                              ticks=True,\n",
    "                              domain=False  # axis line\n",
    "                             )\n",
    "               ),\n",
    "    ).properties(\n",
    "        title=_title,\n",
    "        height=h_w[0],\n",
    "        width=h_w[1],\n",
    "    ) \n",
    "    return ts_line"
   ]
  },
  {
   "cell_type": "markdown",
   "id": "a6050f3f-713c-4b65-a322-2dca21097340",
   "metadata": {
    "tags": []
   },
   "source": [
    "## Create artificial data with known patterns\n",
    "\n",
    "Create one year of daily timestamps and initialize the observations with random numbers $\\in (0, 1)$."
   ]
  },
  {
   "cell_type": "code",
   "execution_count": null,
   "id": "891664c4-edfa-44a0-a7d6-4e20b83dee92",
   "metadata": {},
   "outputs": [],
   "source": [
    "def artifice(day_one: str = '2022-01-01',\n",
    "             day_after_end: str = '2023-01-01',\n",
    "            ) -> pd.DataFrame:\n",
    "    \"\"\"Generate an artificial time series of random numbers [0, 1] from\n",
    "    [day_one, day_after_end).\n",
    "    \"\"\"\n",
    "    days = np.arange(day_one, day_after_end, dtype='datetime64[D]')\n",
    "    print(f'There are {len(days)} days in the period starting {days.min()} and ending {days.max()}.')\n",
    "    rng = np.random.RandomState(1216)\n",
    "    return pd.DataFrame({'t': days,\n",
    "                         'y': rng.random(len(days))})\n",
    "\n",
    "\n",
    "def week_of_month(stamp: dt.date):\n",
    "    \"\"\"\n",
    "    Determines which week of the month a date occurs.\n",
    "    \n",
    "    Parameters\n",
    "    ----------\n",
    "    stamp : datetime stamp\n",
    "    \"\"\"\n",
    "    # Replace the day portion of the date with 1\n",
    "    first_day = stamp.replace(day=1)\n",
    "    \n",
    "    day_of_month = stamp.day\n",
    "    adjusted_dom = day_of_month + first_day.weekday()\n",
    "    return int(ceil(adjusted_dom/7.0))\n",
    "\n",
    "\n",
    "def seq_ordinal(data: pd.DataFrame,\n",
    "                date_col: 'str' = 't',\n",
    "               ):\n",
    "    \"\"\"\n",
    "    \"\"\"\n",
    "    data.loc[:, 'dow'] = data[date_col].dt.weekday\n",
    "    data.loc[:, 'wom'] = data[date_col].apply(week_of_month)\n",
    "    return data\n",
    "\n",
    "\n",
    "def signal_boost(data,\n",
    "                 level1_to_boost: int = 4,  # Friday\n",
    "                 # level2_to_boost: Tuple = (2, 4),  # last __ of the month\n",
    "                 boost: float = 2.,\n",
    "                 every_other_week: bool = False,\n",
    "                ):\n",
    "    \"\"\"\n",
    "    \"\"\"\n",
    "    if every_other_week:\n",
    "        data.y = data.y + np.where((data.dow==level1_to_boost) &\n",
    "                                   (data.wom % 2 == 0), boost, 0)\n",
    "    else:\n",
    "        data.y = data.y + np.where(data.dow==level1_to_boost, boost, 0)\n",
    "    return data"
   ]
  },
  {
   "cell_type": "code",
   "execution_count": null,
   "id": "ca1df3da-fefb-41e5-b174-2b8226fa5efb",
   "metadata": {},
   "outputs": [],
   "source": [
    "ts = artifice()\n",
    "print(ts[0:4])"
   ]
  },
  {
   "cell_type": "code",
   "execution_count": null,
   "id": "f6aa5aad",
   "metadata": {},
   "outputs": [],
   "source": [
    "def run_autoreg(data: pd.DataFrame,\n",
    "                y: str,\n",
    "                lags_: int,\n",
    "                seasonal_: bool,\n",
    "                period_: int = 0,\n",
    "                plot_fit: bool = True,\n",
    "                exhibit_no: str = '',\n",
    "                ):\n",
    "    auto_reg = AutoReg(data[y],\n",
    "                       lags=lags_,\n",
    "                       trend='t',\n",
    "                       seasonal=seasonal_,\n",
    "                       period=period_\n",
    "                       )\n",
    "    auto_reg0 = auto_reg.fit()\n",
    "    model_params_md = auto_reg0.params.to_markdown()\n",
    "    data.loc[:, 'y_hat'] = auto_reg0.predict()\n",
    "    maedf = data.dropna()\n",
    "    mae = eval_measures.meanabs(maedf[y], maedf.y_hat)\n",
    "    \n",
    "    if plot_fit:\n",
    "        pan_zoom = alt.selection_interval(bind='scales')\n",
    "        c0 = altair_ts_scatter(data, 't', 'y', 't')\n",
    "        c2 = altair_ts_line(data, 't', 'y_hat', 't',\n",
    "                            _title=f\"{exhibit_no}{lags_} lags, period {period_}: MAE {mae:.3f}\")\n",
    "        return auto_reg0, model_params_md, data, (c0 + c2).add_selection(pan_zoom)\n",
    "    else:\n",
    "        return auto_reg0, model_params_md, data"
   ]
  },
  {
   "cell_type": "markdown",
   "id": "f8688605-df6f-4eab-8b73-be9b5314cec7",
   "metadata": {
    "jp-MarkdownHeadingCollapsed": true,
    "tags": []
   },
   "source": [
    "### Optional: Plot raw data"
   ]
  },
  {
   "cell_type": "code",
   "execution_count": null,
   "id": "695e99a8-0395-439f-8e92-6be9e6137a32",
   "metadata": {},
   "outputs": [],
   "source": [
    "stage0 = altair_ts_scatter(ts, 't', 'y', 't', _title='Figure 0. Random scatter.')"
   ]
  },
  {
   "cell_type": "code",
   "execution_count": null,
   "id": "900a1c5b-4e9d-4981-b224-c020353162f8",
   "metadata": {},
   "outputs": [],
   "source": [
    "stage0"
   ]
  },
  {
   "cell_type": "markdown",
   "id": "4e04c6cd-e86b-4664-b550-1b6bc82c18c0",
   "metadata": {},
   "source": [
    "### Encode a time characteristic, such as day of the week (dow) and boost the signal on certain days (or weeks, etc.)."
   ]
  },
  {
   "cell_type": "code",
   "execution_count": null,
   "id": "4b019e17-3233-49af-9440-4ed3a4da2a4d",
   "metadata": {},
   "outputs": [],
   "source": [
    "ts = seq_ordinal(ts)\n",
    "ts = signal_boost(ts,every_other_week=False)\n",
    "s1data = ts[0:19].to_markdown(index=False)\n",
    "print(ts[0:29])"
   ]
  },
  {
   "cell_type": "markdown",
   "id": "0d66ecd6-42ee-48b4-ae05-0731d8e67b2c",
   "metadata": {},
   "source": [
    "### Option to remove some points"
   ]
  },
  {
   "cell_type": "code",
   "execution_count": null,
   "id": "2297a279-e4a2-4f99-95b5-33890fa1e9b7",
   "metadata": {},
   "outputs": [],
   "source": [
    "def abscond(data,\n",
    "            points: int = 10,\n",
    "           ):\n",
    "    \n",
    "    rng = np.random.RandomState(1216)\n",
    "    idx_mask = rng.randint(0, len(data), points)\n",
    "    data = data[~data.index.isin(idx_mask)]\n",
    "    print(f'{points} points randomly removed at positions {idx_mask}, leaving {len(data)} observations.')\n",
    "    \n",
    "    # Inspect that a row was removed\n",
    "    print(data[idx_mask[0] - 5 : idx_mask[0] + 2])\n",
    "    return data, idx_mask"
   ]
  },
  {
   "cell_type": "markdown",
   "id": "c3de9116-430d-45f5-b353-cd0ac4f8c083",
   "metadata": {},
   "source": [
    "### MOVE downstream?  Option to reformat the index\n",
    "When the column is populated with datetimes, `.set_index()` produces a `DatimeIndex` with `freq=None`.\n",
    "\n",
    "`.asfreq('d')` conforms the data to a daily schedule by adding any missing days and putting `nan` in associated columns of those rows. `ts.index = ts.index.to_period('D')` is an alternative that will _not_ do so.  We currently opt to have all days present, assuming that any missingness implies no transactions; hence we replace `nan` with zero.  These measures accommodate `statsmodels.tsa.ar_model.AutoReg` seasonality feature, which rely on regularly spaced sequences."
   ]
  },
  {
   "cell_type": "code",
   "execution_count": null,
   "id": "e76b9696-d857-4be0-bbe8-dac1b977da76",
   "metadata": {},
   "outputs": [],
   "source": [
    "# Move downstream\n",
    "# ts.set_index('t', inplace=True)\n",
    "# ts = ts.asfreq('d')\n",
    "# ts.fillna(0, inplace=True)\n",
    "# print(ts.index)"
   ]
  },
  {
   "cell_type": "markdown",
   "id": "3868b3e8-3215-494b-9592-1bc57b4b7f05",
   "metadata": {
    "tags": []
   },
   "source": [
    "## Fit autoregressive model"
   ]
  },
  {
   "cell_type": "markdown",
   "id": "a089c1bc",
   "metadata": {},
   "source": [
    "With `seasonal=False`, we obtain an upwardly trending oscillation."
   ]
  },
  {
   "cell_type": "code",
   "execution_count": null,
   "id": "011bdfd8",
   "metadata": {},
   "outputs": [],
   "source": [
    "s1model, s1params, _, stage1 = run_autoreg(ts, 'y',\n",
    "                                           lags_=2,\n",
    "                                           seasonal_=False,\n",
    "                                           exhibit_no='Figure 1. '\n",
    "                                          )\n",
    "print(s1model.params)\n",
    "stage1"
   ]
  },
  {
   "cell_type": "markdown",
   "id": "9797a133",
   "metadata": {},
   "source": [
    "Enable `seasonal`, and we get the expected level baseline with weekly peaks:"
   ]
  },
  {
   "cell_type": "code",
   "execution_count": null,
   "id": "0923259b",
   "metadata": {},
   "outputs": [],
   "source": [
    "_, s2params, _, stage2 = run_autoreg(ts, 'y',\n",
    "                                     lags_=4,\n",
    "                                     seasonal_=True,\n",
    "                                     period_=7,\n",
    "                                     exhibit_no='Figure 2. '\n",
    "                                    )\n",
    "stage2"
   ]
  },
  {
   "cell_type": "markdown",
   "id": "2ba8c77a",
   "metadata": {},
   "source": [
    "If we increase `lags=7` to include the weekly effect, we get almost as good a model as with seasonal terms:"
   ]
  },
  {
   "cell_type": "code",
   "execution_count": null,
   "id": "0761c9ce",
   "metadata": {},
   "outputs": [],
   "source": [
    "_, s3params, _, stage3 = run_autoreg(ts, 'y',\n",
    "                                     lags_=7,\n",
    "                                     seasonal_=False,\n",
    "                                     exhibit_no='Figure 3. '\n",
    "                                    )\n",
    "stage3"
   ]
  },
  {
   "cell_type": "markdown",
   "id": "3a8c3ef4",
   "metadata": {},
   "source": [
    "Look at the coefficients by applying the `.params` method to the fitted model object; e.g., with `lags=2`, `seasonal=True`, and `period=7`: "
   ]
  },
  {
   "cell_type": "code",
   "execution_count": null,
   "id": "88b5dfb7",
   "metadata": {},
   "outputs": [],
   "source": [
    "s4model, s4params, _, stage4 = run_autoreg(ts, 'y',\n",
    "                                           lags_=2,\n",
    "                                           seasonal_=True,\n",
    "                                           period_=7,\n",
    "                                           exhibit_no='Figure 4. '\n",
    "                                          )\n",
    "print(s4model.params)"
   ]
  },
  {
   "cell_type": "markdown",
   "id": "c966dc27",
   "metadata": {},
   "source": [
    "If we remove a small number of points at random such that there are gaps in the index, the model falls apart (not shown).  Can we make the seasonal regression algorithm aware that observations are made on calendar days?"
   ]
  },
  {
   "cell_type": "code",
   "execution_count": null,
   "id": "0b5e27b8",
   "metadata": {},
   "outputs": [],
   "source": [
    "ts, idx_mask = abscond(ts, points=5)"
   ]
  },
  {
   "cell_type": "markdown",
   "id": "c43864f2",
   "metadata": {},
   "source": [
    "Before and after applying `.asfreq('d')`:"
   ]
  },
  {
   "cell_type": "code",
   "execution_count": null,
   "id": "dd5292ea",
   "metadata": {},
   "outputs": [],
   "source": [
    "s5_before_asfreq = ts[280:292].to_markdown(index=False)\n",
    "ts[280:292]"
   ]
  },
  {
   "cell_type": "code",
   "execution_count": null,
   "id": "f1d8926c",
   "metadata": {},
   "outputs": [],
   "source": [
    "ts = ts.set_index('t').asfreq('d')"
   ]
  },
  {
   "cell_type": "code",
   "execution_count": null,
   "id": "4d04aeb7",
   "metadata": {},
   "outputs": [],
   "source": [
    "s5_after_asfreq = ts[280:292].to_markdown(index=False)\n",
    "ts[280:292]"
   ]
  },
  {
   "cell_type": "markdown",
   "id": "72f63548",
   "metadata": {},
   "source": [
    "try a `PeriodIndex`, a subclass of `Index` that is regularly spaced:  We still have gaps in the time series, but no `nan` have been inserted:"
   ]
  },
  {
   "cell_type": "code",
   "execution_count": null,
   "id": "3c7db99f",
   "metadata": {},
   "outputs": [],
   "source": [
    "ts2 = artifice()\n",
    "ts2 = seq_ordinal(ts2)\n",
    "ts2 = signal_boost(ts2, every_other_week=False)\n",
    "ts2, idx_mask = abscond(ts2, points=5)\n",
    "ts2.set_index('t', inplace=True)"
   ]
  },
  {
   "cell_type": "code",
   "execution_count": null,
   "id": "d56605b6",
   "metadata": {},
   "outputs": [],
   "source": [
    "ts2.index"
   ]
  },
  {
   "cell_type": "code",
   "execution_count": null,
   "id": "69aaa1f5",
   "metadata": {},
   "outputs": [],
   "source": [
    "ts2.index = pd.DatetimeIndex(ts2.index).to_period('D')"
   ]
  },
  {
   "cell_type": "code",
   "execution_count": null,
   "id": "9263aecd",
   "metadata": {},
   "outputs": [],
   "source": [
    "ts2.index"
   ]
  },
  {
   "cell_type": "code",
   "execution_count": null,
   "id": "84d35163",
   "metadata": {},
   "outputs": [],
   "source": [
    "s5_periodIndex = ts2[280:292].to_markdown(index=False)  # or part of sequence with gaps\n",
    "ts2[280:292]"
   ]
  },
  {
   "cell_type": "markdown",
   "id": "2a623885",
   "metadata": {},
   "source": [
    "It is unnecessary to include `missing='drop'` in `AutoReg()`, since the data has no missing values (it is probably good practice to include `missing='raise'` as a check).  `.fit()` runs and `.predict()` returns values without alterring the input data structure: it still has a `PeriodIndex`:"
   ]
  },
  {
   "cell_type": "code",
   "execution_count": null,
   "id": "d6988c7e",
   "metadata": {},
   "outputs": [],
   "source": [
    "_, s5params, ts5, stage5 = run_autoreg(ts2.reset_index(), 'y',\n",
    "                                       lags_=7,\n",
    "                                       seasonal_=False,\n",
    "                                      )"
   ]
  },
  {
   "cell_type": "code",
   "execution_count": null,
   "id": "07ef3693",
   "metadata": {},
   "outputs": [],
   "source": [
    "ts5md = ts5[0:9].to_markdown(index=False)\n",
    "ts5.head(10)"
   ]
  },
  {
   "cell_type": "code",
   "execution_count": null,
   "id": "a3392ccf",
   "metadata": {},
   "outputs": [],
   "source": [
    "ts2.index = ts2.index.to_timestamp()"
   ]
  },
  {
   "cell_type": "code",
   "execution_count": null,
   "id": "3e133c06",
   "metadata": {},
   "outputs": [],
   "source": [
    "_, _, _, stage5 = run_autoreg(ts2.reset_index(), 'y',\n",
    "                                       lags_=7,\n",
    "                                       seasonal_=False,\n",
    "                                       exhibit_no='Figure 5. '\n",
    "                                      )"
   ]
  },
  {
   "cell_type": "code",
   "execution_count": null,
   "id": "ef98d45d",
   "metadata": {},
   "outputs": [],
   "source": [
    "stage5"
   ]
  },
  {
   "cell_type": "markdown",
   "id": "502799df",
   "metadata": {},
   "source": [
    "Using `.asfreq` to conform a daily time series of 365 points minus 10 removed at\n",
    "random to a `DatetimeIndex`-ed dataframe with `freq='D'`, we get a good fit."
   ]
  },
  {
   "cell_type": "code",
   "execution_count": null,
   "id": "b6cb77d9",
   "metadata": {},
   "outputs": [],
   "source": [
    "ts3 = artifice()\n",
    "ts3 = seq_ordinal(ts3)\n",
    "ts3 = signal_boost(ts3, every_other_week=False)\n",
    "ts3, _ = abscond(ts3)\n",
    "ts3 = ts3.set_index('t').asfreq('d')\n",
    "ts3.fillna(0, inplace=True)\n",
    "_, s6params, _, stage6 = run_autoreg(ts3.reset_index(), 'y',\n",
    "                                     lags_=2,\n",
    "                                     seasonal_=True,\n",
    "                                     period_=7,\n",
    "                                     exhibit_no='Figure 6. '\n",
    "                                    )"
   ]
  },
  {
   "cell_type": "code",
   "execution_count": null,
   "id": "e833e6f2",
   "metadata": {},
   "outputs": [],
   "source": [
    "stage6"
   ]
  },
  {
   "cell_type": "markdown",
   "id": "9418a9ea",
   "metadata": {},
   "source": [
    "What if the signal boost occurred _every other_ Friday?"
   ]
  },
  {
   "cell_type": "code",
   "execution_count": null,
   "id": "680bfe7b",
   "metadata": {},
   "outputs": [],
   "source": [
    "ts4 = artifice()\n",
    "ts4 = seq_ordinal(ts4)\n",
    "ts4 = signal_boost(ts4, every_other_week=False)\n",
    "ts4 = signal_boost(ts4,\n",
    "                  level1_to_boost=4,  # Friday\n",
    "                  boost=2.,\n",
    "                  every_other_week=True,\n",
    "                 )\n",
    "_, s7params, _, stage7 = run_autoreg(ts4, 'y',\n",
    "                                     lags_=2,\n",
    "                                     seasonal_=True,\n",
    "                                     period_=7,\n",
    "                                     exhibit_no='Figure 7. '\n",
    "                                    )"
   ]
  },
  {
   "cell_type": "code",
   "execution_count": null,
   "id": "4dafafab",
   "metadata": {},
   "outputs": [],
   "source": [
    "compound = (stage0 | stage1) & (stage2 | stage3) & (stage5 | stage7).configure_view(strokeWidth=0).add_selection(pan_zoom)"
   ]
  },
  {
   "cell_type": "code",
   "execution_count": null,
   "id": "6e30a8cb",
   "metadata": {},
   "outputs": [],
   "source": [
    "compound"
   ]
  },
  {
   "cell_type": "markdown",
   "id": "6a1a4f5a",
   "metadata": {},
   "source": [
    "# Put content into template"
   ]
  },
  {
   "cell_type": "code",
   "execution_count": null,
   "id": "3371ba54",
   "metadata": {},
   "outputs": [],
   "source": [
    "p = parent_path/'content/posts/practical_ts01.md'\n",
    "template = Template(p.read_text())\n",
    "o = parent_path/'content/posts/practical_ts01.md'\n",
    "o.write_text(template.render({'alt': alt,\n",
    "                              'stage0': 'Figure 0 appended.' # stage0.to_html(),\n",
    "                              's1data': s1data,\n",
    "                              'stage1': 'Figure 1 appended.' # stage1.to_html(),\n",
    "                              'stage2': 'Figure 2 appended.' # stage2.to_html(),\n",
    "                              'stage3': 'Figure 3 appended.' # stage3.to_html(),\n",
    "                              's4params': s4params,\n",
    "                              's5_before_asfreq': s5_before_asfreq,\n",
    "                              's5_after_asfreq': s5_after_asfreq,\n",
    "                              's5_periodIndex': s5_periodIndex,\n",
    "                              'ts5md': ts5md,\n",
    "                              'stage5': 'Figure 5 appended.' # stage5.to_html(),\n",
    "                              's5params': s5params,\n",
    "                              's6params': s6params,\n",
    "                              'stage7': compound.to_json(),\n",
    "                             }\n",
    "                            )\n",
    "            )"
   ]
  },
  {
   "cell_type": "markdown",
   "id": "3bf063d6",
   "metadata": {},
   "source": [
    "Troubleshoot jinja, hugo issues"
   ]
  },
  {
   "cell_type": "code",
   "execution_count": null,
   "id": "046e58b9",
   "metadata": {},
   "outputs": [],
   "source": [
    "# parent_path"
   ]
  },
  {
   "cell_type": "code",
   "execution_count": null,
   "id": "3fd73b2f",
   "metadata": {},
   "outputs": [],
   "source": [
    "# p = parent_path/'content/posts/aa1chart.md'\n",
    "# template = Template(p.read_text())\n",
    "# o = parent_path/'content/posts/aa1chart.md'\n",
    "# o.write_text(template.render({\n",
    "#                               'stage0': stage0.to_json(),\n",
    "# #                               'stage7': stage7.to_html(),\n",
    "#                              }\n",
    "#                             )\n",
    "#             )"
   ]
  },
  {
   "cell_type": "code",
   "execution_count": null,
   "id": "c22b4538",
   "metadata": {},
   "outputs": [],
   "source": [
    "# stage0"
   ]
  },
  {
   "cell_type": "code",
   "execution_count": null,
   "id": "923034f8",
   "metadata": {},
   "outputs": [],
   "source": [
    "# Path.cwd()"
   ]
  },
  {
   "cell_type": "code",
   "execution_count": null,
   "id": "7a5c2159",
   "metadata": {},
   "outputs": [],
   "source": []
  }
 ],
 "metadata": {
  "kernelspec": {
   "display_name": "Python 3 (ipykernel)",
   "language": "python",
   "name": "python3"
  },
  "language_info": {
   "codemirror_mode": {
    "name": "ipython",
    "version": 3
   },
   "file_extension": ".py",
   "mimetype": "text/x-python",
   "name": "python",
   "nbconvert_exporter": "python",
   "pygments_lexer": "ipython3",
   "version": "3.10.6"
  }
 },
 "nbformat": 4,
 "nbformat_minor": 5
}
